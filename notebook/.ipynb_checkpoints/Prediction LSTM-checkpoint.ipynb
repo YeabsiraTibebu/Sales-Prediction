{
 "cells": [
  {
   "cell_type": "code",
   "execution_count": 5,
   "id": "576930ca",
   "metadata": {},
   "outputs": [],
   "source": [
    "import numpy as np\n",
    "from tensorflow.keras.models import Sequential\n",
    "from tensorflow.keras.layers import LSTM, Dense\n",
    "\n",
    "# Generate sample data\n",
    "data = np.array([[i for i in range(10)] for _ in range(100)])\n",
    "X, y = data[:, :-1], data[:, -1]\n",
    "\n",
    "# Reshape input to be [samples, time steps, features]\n",
    "#The new shape of X is (100, 9, 1), which means there are 100 samples, each with a sequence length of 9 time steps, and each time step has 1 feature.\n",
    "X = X.reshape((X.shape[0], X.shape[1], 1))\n"
   ]
  },
  {
   "cell_type": "code",
   "execution_count": null,
   "id": "b297ca99",
   "metadata": {},
   "outputs": [],
   "source": []
  }
 ],
 "metadata": {
  "kernelspec": {
   "display_name": "Python 3 (ipykernel)",
   "language": "python",
   "name": "python3"
  },
  "language_info": {
   "codemirror_mode": {
    "name": "ipython",
    "version": 3
   },
   "file_extension": ".py",
   "mimetype": "text/x-python",
   "name": "python",
   "nbconvert_exporter": "python",
   "pygments_lexer": "ipython3",
   "version": "3.11.7"
  }
 },
 "nbformat": 4,
 "nbformat_minor": 5
}
